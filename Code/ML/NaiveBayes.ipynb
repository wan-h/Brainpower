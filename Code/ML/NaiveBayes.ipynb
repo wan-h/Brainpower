{
 "cells": [
  {
   "cell_type": "code",
   "execution_count": 1,
   "metadata": {
    "collapsed": true
   },
   "outputs": [],
   "source": [
    "# 实现朴素贝叶斯分类问题\n",
    "%matplotlib inline\n",
    "\n",
    "import numpy as np\n",
    "import matplotlib.pyplot as plt\n",
    "from sklearn.naive_bayes import GaussianNB"
   ]
  },
  {
   "cell_type": "code",
   "execution_count": 2,
   "outputs": [
    {
     "name": "stdout",
     "output_type": "stream",
     "text": [
      "[3 4]\n"
     ]
    },
    {
     "data": {
      "text/plain": "<matplotlib.legend.Legend at 0x18447027430>"
     },
     "execution_count": 2,
     "metadata": {},
     "output_type": "execute_result"
    },
    {
     "data": {
      "text/plain": "<Figure size 432x288 with 1 Axes>",
      "image/png": "[encoded data removed]"
     },
     "metadata": {
      "needs_background": "light"
     },
     "output_type": "display_data"
    }
   ],
   "source": [
    "#构建样本集\n",
    "x= np.array([[-3,7],[1,5], [1,2], [-2,0], [2,3], [-4,0], [-1,1], [1,1], [-2,2], [2,7], [-4,1], [-2,7]])\n",
    "y = np.array([3, 3, 3, 3, 4, 3, 3, 4, 3, 4, 4, 4])\n",
    "\n",
    "# 搭建模型\n",
    "model = GaussianNB()\n",
    "model.fit(x, y)\n",
    "\n",
    "# 测试样本\n",
    "pretict_data = ([1, 2], [-2, 7])\n",
    "preticted = model.predict(pretict_data)\n",
    "print(preticted)\n",
    "\n",
    "# 可视化\n",
    "label_3_x = x[np.argwhere(y==3)].squeeze(1).tolist()\n",
    "label_4_x = x[np.argwhere(y==4)].squeeze(1).tolist()\n",
    "plt.plot([x[0] for x in label_3_x], [x[1] for x in label_3_x], 'bo', label='3')\n",
    "plt.plot([x[0] for x in label_4_x], [x[1] for x in label_4_x], 'ro', label='4')\n",
    "plt.scatter(pretict_data[0][0], pretict_data[0][1],  marker='o', alpha=0.5, c='y', s=150, label='t-3')\n",
    "plt.scatter(pretict_data[1][0], pretict_data[1][1],  marker='o', alpha=0.5, c='k', s=150, label='t-4')\n",
    "plt.legend()"
   ],
   "metadata": {
    "collapsed": false,
    "pycharm": {
     "name": "#%%\n"
    }
   }
  }
 ],
 "metadata": {
  "kernelspec": {
   "display_name": "Python 3",
   "language": "python",
   "name": "python3"
  },
  "language_info": {
   "codemirror_mode": {
    "name": "ipython",
    "version": 2
   },
   "file_extension": ".py",
   "mimetype": "text/x-python",
   "name": "python",
   "nbconvert_exporter": "python",
   "pygments_lexer": "ipython2",
   "version": "2.7.6"
  }
 },
 "nbformat": 4,
 "nbformat_minor": 0
}