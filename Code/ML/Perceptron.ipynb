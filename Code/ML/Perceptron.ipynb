{
 "cells": [
  {
   "cell_type": "code",
   "execution_count": 1,
   "metadata": {
    "collapsed": true
   },
   "outputs": [],
   "source": [
    "# 实现感知机解决二分类问题\n",
    "%matplotlib inline\n",
    "\n",
    "import random\n",
    "import numpy as np\n",
    "import matplotlib.pyplot as plt"
   ]
  },
  {
   "cell_type": "code",
   "execution_count": 2,
   "outputs": [],
   "source": [
    "# 正样本\n",
    "train_data1 = [[1, 3, 1], [2, 5, 1], [3, 8, 1], [2, 6, 1]]\n",
    "# 负样本\n",
    "train_data2 = [[3, 1, -1], [4, 1, -1], [6, 2, -1], [7, 3, -1]]\n",
    "\n",
    "# 显示样本分布\n",
    "def show_data(weight, bias):\n",
    "    train_data = train_data1 + train_data2\n",
    "    x_pos_points = [x[0] for x in train_data1]\n",
    "    x_neg_points = [x[0] for x in train_data2]\n",
    "    y_pos_points = [x[1] for x in train_data1]\n",
    "    y_neg_points = [x[1] for x in train_data2]\n",
    "    plt.plot(x_pos_points, y_pos_points, 'bo', label='pos_point')\n",
    "    plt.plot(x_neg_points, y_neg_points, 'ro', label='neg_point')\n",
    "    if weight[0] != 0:\n",
    "        x_points = np.array([x[0] for x in train_data])\n",
    "        y_points = (-weight[0]/weight[1])*x_points - bias/weight[0]\n",
    "        plt.plot(x_points, y_points, 'y')\n",
    "    plt.legend()"
   ],
   "metadata": {
    "collapsed": false,
    "pycharm": {
     "name": "#%%\n"
    }
   }
  },
  {
   "cell_type": "code",
   "execution_count": 3,
   "outputs": [],
   "source": [
    "# 符号函数\n",
    "def sign(v):\n",
    "    if v > 0:\n",
    "        return 1\n",
    "    else:\n",
    "        return -1\n",
    "\n",
    "# 训练函数\n",
    "def training(iter=10):\n",
    "    # 学习速率\n",
    "    learning_rate = 0.5\n",
    "    # 初始化\n",
    "    weight = [0, 0]  # 权重\n",
    "    bias = 0  # 偏置量\n",
    "    train_data = train_data1 + train_data2\n",
    "    for i in range(iter):\n",
    "        x1, x2, y = random.choice(train_data)\n",
    "        predict = sign(weight[0]*x1+weight[1]*x2+bias)\n",
    "        print(\"train data: x: (%d, %d) y: %d  ==> predict: %d\" % (x1, x2, y, predict))\n",
    "        # 判断误分类点\n",
    "        if y * predict <= 0:\n",
    "            weight[0] = weight[0] + learning_rate * y * x1  # 更新权重\n",
    "            weight[1] = weight[1] + learning_rate * y * x2\n",
    "            bias = bias + learning_rate * y  # 更新偏置量\n",
    "            print(f\"update weight and bias: {weight[0]}, {weight[1]}, {bias}\")\n",
    "    return weight, bias"
   ],
   "metadata": {
    "collapsed": false,
    "pycharm": {
     "name": "#%%\n"
    }
   }
  },
  {
   "cell_type": "code",
   "execution_count": 4,
   "outputs": [
    {
     "name": "stdout",
     "output_type": "stream",
     "text": [
      "train data: x: (7, 3) y: -1  ==> predict: -1\n",
      "train data: x: (3, 1) y: -1  ==> predict: -1\n"
     ]
    },
    {
     "data": {
      "text/plain": "<Figure size 432x288 with 1 Axes>",
      "image/png": "[encoded data removed]"
     },
     "metadata": {
      "needs_background": "light"
     },
     "output_type": "display_data"
    }
   ],
   "source": [
    "weight, bias = training(iter=2)\n",
    "show_data(weight, bias)\n"
   ],
   "metadata": {
    "collapsed": false,
    "pycharm": {
     "name": "#%%\n"
    }
   }
  },
  {
   "cell_type": "code",
   "execution_count": 5,
   "outputs": [
    {
     "name": "stdout",
     "output_type": "stream",
     "text": [
      "train data: x: (3, 8) y: 1  ==> predict: -1\n",
      "update weight and bias: 1.5, 4.0, 0.5\n",
      "train data: x: (1, 3) y: 1  ==> predict: 1\n",
      "train data: x: (6, 2) y: -1  ==> predict: 1\n",
      "update weight and bias: -1.5, 3.0, 0.0\n",
      "train data: x: (4, 1) y: -1  ==> predict: -1\n",
      "train data: x: (4, 1) y: -1  ==> predict: -1\n"
     ]
    },
    {
     "data": {
      "text/plain": "<Figure size 432x288 with 1 Axes>",
      "image/png": "[encoded data removed]"
     },
     "metadata": {
      "needs_background": "light"
     },
     "output_type": "display_data"
    }
   ],
   "source": [
    "weight, bias = training(iter=5)\n",
    "show_data(weight, bias)\n",
    "\n"
   ],
   "metadata": {
    "collapsed": false,
    "pycharm": {
     "name": "#%%\n"
    }
   }
  },
  {
   "cell_type": "code",
   "execution_count": 11,
   "outputs": [
    {
     "name": "stdout",
     "output_type": "stream",
     "text": [
      "train data: x: (2, 6) y: 1  ==> predict: -1\n",
      "update weight and bias: 1.0, 3.0, 0.5\n",
      "train data: x: (6, 2) y: -1  ==> predict: 1\n",
      "update weight and bias: -2.0, 2.0, 0.0\n",
      "train data: x: (1, 3) y: 1  ==> predict: 1\n",
      "train data: x: (6, 2) y: -1  ==> predict: -1\n",
      "train data: x: (3, 8) y: 1  ==> predict: 1\n",
      "train data: x: (3, 8) y: 1  ==> predict: 1\n",
      "train data: x: (3, 1) y: -1  ==> predict: -1\n",
      "train data: x: (7, 3) y: -1  ==> predict: -1\n",
      "train data: x: (2, 5) y: 1  ==> predict: 1\n",
      "train data: x: (3, 1) y: -1  ==> predict: -1\n"
     ]
    },
    {
     "data": {
      "text/plain": "<Figure size 432x288 with 1 Axes>",
      "image/png": "[encoded data removed]"
     },
     "metadata": {
      "needs_background": "light"
     },
     "output_type": "display_data"
    }
   ],
   "source": [
    "weight, bias = training(iter=10)\n",
    "show_data(weight, bias)\n",
    "\n"
   ],
   "metadata": {
    "collapsed": false,
    "pycharm": {
     "name": "#%%\n"
    }
   }
  }
 ],
 "metadata": {
  "kernelspec": {
   "display_name": "Python 3",
   "language": "python",
   "name": "python3"
  },
  "language_info": {
   "codemirror_mode": {
    "name": "ipython",
    "version": 2
   },
   "file_extension": ".py",
   "mimetype": "text/x-python",
   "name": "python",
   "nbconvert_exporter": "python",
   "pygments_lexer": "ipython2",
   "version": "2.7.6"
  }
 },
 "nbformat": 4,
 "nbformat_minor": 0
}